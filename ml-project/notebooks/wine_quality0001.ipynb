{
 "cells": [
  {
   "cell_type": "code",
   "execution_count": 1,
   "metadata": {},
   "outputs": [],
   "source": [
    "%matplotlib inline\n",
    "import matplotlib.pyplot as plt\n",
    "import numpy as np\n",
    "import pandas as pd"
   ]
  },
  {
   "cell_type": "code",
   "execution_count": 2,
   "metadata": {},
   "outputs": [],
   "source": [
    "RANDOM_SEED = 42\n",
    "np.random.seed(RANDOM_SEED)"
   ]
  },
  {
   "cell_type": "code",
   "execution_count": 3,
   "metadata": {},
   "outputs": [],
   "source": [
    "FILE = \"../data/raw/database0001.csv\"\n",
    "\n",
    "def load_data(file_path=\"../data/raw/database0001.csv\") -> pd.DataFrame:\n",
    "    return pd.read_csv(file_path)\n"
   ]
  },
  {
   "cell_type": "code",
   "execution_count": 4,
   "metadata": {},
   "outputs": [
    {
     "data": {
      "text/html": [
       "<div>\n",
       "<style scoped>\n",
       "    .dataframe tbody tr th:only-of-type {\n",
       "        vertical-align: middle;\n",
       "    }\n",
       "\n",
       "    .dataframe tbody tr th {\n",
       "        vertical-align: top;\n",
       "    }\n",
       "\n",
       "    .dataframe thead th {\n",
       "        text-align: right;\n",
       "    }\n",
       "</style>\n",
       "<table border=\"1\" class=\"dataframe\">\n",
       "  <thead>\n",
       "    <tr style=\"text-align: right;\">\n",
       "      <th></th>\n",
       "      <th>fixed acidity</th>\n",
       "      <th>volatile acidity</th>\n",
       "      <th>citric acid</th>\n",
       "      <th>residual sugar</th>\n",
       "      <th>chlorides</th>\n",
       "      <th>free sulfur dioxide</th>\n",
       "      <th>total sulfur dioxide</th>\n",
       "      <th>density</th>\n",
       "      <th>pH</th>\n",
       "      <th>sulphates</th>\n",
       "      <th>alcohol</th>\n",
       "      <th>quality</th>\n",
       "    </tr>\n",
       "  </thead>\n",
       "  <tbody>\n",
       "    <tr>\n",
       "      <th>0</th>\n",
       "      <td>10.1</td>\n",
       "      <td>0.450</td>\n",
       "      <td>0.23</td>\n",
       "      <td>1.9</td>\n",
       "      <td>0.082</td>\n",
       "      <td>10.0</td>\n",
       "      <td>18.0</td>\n",
       "      <td>0.99774</td>\n",
       "      <td>3.22</td>\n",
       "      <td>0.65</td>\n",
       "      <td>9.3</td>\n",
       "      <td>6</td>\n",
       "    </tr>\n",
       "    <tr>\n",
       "      <th>1</th>\n",
       "      <td>15.0</td>\n",
       "      <td>0.210</td>\n",
       "      <td>0.44</td>\n",
       "      <td>2.2</td>\n",
       "      <td>0.075</td>\n",
       "      <td>10.0</td>\n",
       "      <td>24.0</td>\n",
       "      <td>1.00005</td>\n",
       "      <td>3.07</td>\n",
       "      <td>0.84</td>\n",
       "      <td>9.2</td>\n",
       "      <td>7</td>\n",
       "    </tr>\n",
       "    <tr>\n",
       "      <th>2</th>\n",
       "      <td>8.1</td>\n",
       "      <td>0.725</td>\n",
       "      <td>0.22</td>\n",
       "      <td>2.2</td>\n",
       "      <td>0.072</td>\n",
       "      <td>11.0</td>\n",
       "      <td>41.0</td>\n",
       "      <td>0.99670</td>\n",
       "      <td>3.36</td>\n",
       "      <td>0.55</td>\n",
       "      <td>9.1</td>\n",
       "      <td>5</td>\n",
       "    </tr>\n",
       "    <tr>\n",
       "      <th>3</th>\n",
       "      <td>8.1</td>\n",
       "      <td>0.575</td>\n",
       "      <td>0.22</td>\n",
       "      <td>2.1</td>\n",
       "      <td>0.077</td>\n",
       "      <td>12.0</td>\n",
       "      <td>65.0</td>\n",
       "      <td>0.99670</td>\n",
       "      <td>3.29</td>\n",
       "      <td>0.51</td>\n",
       "      <td>9.2</td>\n",
       "      <td>5</td>\n",
       "    </tr>\n",
       "    <tr>\n",
       "      <th>4</th>\n",
       "      <td>7.9</td>\n",
       "      <td>0.650</td>\n",
       "      <td>0.01</td>\n",
       "      <td>2.5</td>\n",
       "      <td>0.078</td>\n",
       "      <td>17.0</td>\n",
       "      <td>38.0</td>\n",
       "      <td>0.99630</td>\n",
       "      <td>3.34</td>\n",
       "      <td>0.74</td>\n",
       "      <td>11.7</td>\n",
       "      <td>7</td>\n",
       "    </tr>\n",
       "  </tbody>\n",
       "</table>\n",
       "</div>"
      ],
      "text/plain": [
       "   fixed acidity  volatile acidity  citric acid  residual sugar  chlorides  \\\n",
       "0           10.1             0.450         0.23             1.9      0.082   \n",
       "1           15.0             0.210         0.44             2.2      0.075   \n",
       "2            8.1             0.725         0.22             2.2      0.072   \n",
       "3            8.1             0.575         0.22             2.1      0.077   \n",
       "4            7.9             0.650         0.01             2.5      0.078   \n",
       "\n",
       "   free sulfur dioxide  total sulfur dioxide  density    pH  sulphates  \\\n",
       "0                 10.0                  18.0  0.99774  3.22       0.65   \n",
       "1                 10.0                  24.0  1.00005  3.07       0.84   \n",
       "2                 11.0                  41.0  0.99670  3.36       0.55   \n",
       "3                 12.0                  65.0  0.99670  3.29       0.51   \n",
       "4                 17.0                  38.0  0.99630  3.34       0.74   \n",
       "\n",
       "   alcohol  quality  \n",
       "0      9.3        6  \n",
       "1      9.2        7  \n",
       "2      9.1        5  \n",
       "3      9.2        5  \n",
       "4     11.7        7  "
      ]
     },
     "execution_count": 4,
     "metadata": {},
     "output_type": "execute_result"
    }
   ],
   "source": [
    "wine = load_data()\n",
    "wine.head()\n"
   ]
  },
  {
   "cell_type": "code",
   "execution_count": 5,
   "metadata": {},
   "outputs": [],
   "source": [
    "# wine.describe().transpose()"
   ]
  },
  {
   "cell_type": "code",
   "execution_count": 6,
   "metadata": {},
   "outputs": [],
   "source": [
    "# wine.hist(figsize=(20,15))\n",
    "# plt.show()"
   ]
  },
  {
   "cell_type": "code",
   "execution_count": 7,
   "metadata": {},
   "outputs": [],
   "source": [
    "# wine['residual sugar'].apply(np.log).plot.hist()\n",
    "# plt.show()"
   ]
  },
  {
   "cell_type": "code",
   "execution_count": 8,
   "metadata": {},
   "outputs": [],
   "source": [
    "# wine['chlorides'].apply(np.log).plot.hist()\n",
    "# plt.show()"
   ]
  },
  {
   "cell_type": "code",
   "execution_count": 9,
   "metadata": {},
   "outputs": [],
   "source": [
    "# wine['total sulfur dioxide'].apply(np.log).plot.hist()\n",
    "# plt.show()"
   ]
  },
  {
   "cell_type": "markdown",
   "metadata": {},
   "source": [
    "# Stratificação"
   ]
  },
  {
   "cell_type": "code",
   "execution_count": 10,
   "metadata": {},
   "outputs": [],
   "source": [
    "from sklearn.model_selection import StratifiedShuffleSplit\n",
    "\n",
    "split = StratifiedShuffleSplit(\n",
    "    n_splits=1,\n",
    "    test_size=0.2,\n",
    "    random_state=42,\n",
    ")\n",
    "for train_index, test_index in split.split(wine, wine['quality']):\n",
    "    train_set = wine.loc[train_index]\n",
    "    test_set = wine.loc[test_index]"
   ]
  },
  {
   "cell_type": "code",
   "execution_count": 11,
   "metadata": {},
   "outputs": [],
   "source": [
    "train_set = train_set[train_set.quality != 3]\n",
    "test_set = test_set[test_set.quality != 3]\n",
    "\n",
    "X_train, Y_train = train_set.drop(columns=\"quality\"), train_set.quality\n",
    "X_test, Y_test = test_set.drop(columns=\"quality\"), test_set.quality\n"
   ]
  },
  {
   "cell_type": "markdown",
   "metadata": {},
   "source": [
    "# Pipeline0001"
   ]
  },
  {
   "cell_type": "code",
   "execution_count": 12,
   "metadata": {},
   "outputs": [],
   "source": [
    "from sklearn.base import BaseEstimator, TransformerMixin\n",
    "\n",
    "tsd, chl, rs, qual = [wine.columns.get_loc(i) for i in ['total sulfur dioxide', 'chlorides', 'residual sugar', 'quality']] \n",
    "\n",
    "class LogAtt(BaseEstimator, TransformerMixin):\n",
    "    def __init__(self) -> None:\n",
    "        pass\n",
    "\n",
    "    def fit(self, X, y=None):\n",
    "        return self\n",
    "\n",
    "    def transform(self, X):\n",
    "        X_l = X\n",
    "        X_l[:, tsd] = np.log(X[:,tsd])\n",
    "        X_l[:, chl] = np.log(X[:,chl])\n",
    "        X_l[:, rs] = np.log(X[:,rs])\n",
    "\n",
    "        return X_l\n",
    "\n",
    "pipe = LogAtt()"
   ]
  },
  {
   "cell_type": "markdown",
   "id": "118d2d33",
   "metadata": {},
   "source": [
    "# Testando modelos de forma superficial"
   ]
  },
  {
   "cell_type": "code",
   "execution_count": 13,
   "metadata": {},
   "outputs": [],
   "source": [
    "from sklearn.svm import SVC\n",
    "from sklearn.linear_model import SGDClassifier\n",
    "from sklearn.tree import DecisionTreeClassifier\n",
    "from sklearn.ensemble import RandomForestClassifier\n",
    "from sklearn.model_selection import cross_val_predict\n",
    "from sklearn.metrics import accuracy_score\n",
    "from sklearn.metrics import confusion_matrix\n",
    "\n",
    "Y_train_np = Y_train.to_numpy()\n",
    "X_train_pp = pipe.transform(X_train.values)\n",
    "CROSS_VAL = 4\n"
   ]
  },
  {
   "cell_type": "code",
   "execution_count": 20,
   "metadata": {},
   "outputs": [
    {
     "data": {
      "text/plain": [
       "(array([[ 0,  5,  3,  0,  0],\n",
       "        [ 0, 69, 47,  0,  0],\n",
       "        [ 0, 45, 65,  0,  0],\n",
       "        [ 0,  4, 30,  0,  0],\n",
       "        [ 0,  0,  4,  0,  0]]),\n",
       " 0.49264705882352944)"
      ]
     },
     "execution_count": 20,
     "metadata": {},
     "output_type": "execute_result"
    }
   ],
   "source": [
    "svc_clf = SVC(random_state=RANDOM_SEED)\n",
    "svc_clf.fit(X_train_pp, Y_train_np)\n",
    "svc_clf_pred = cross_val_predict(svc_clf, X_train_pp, Y_train_np, cv=CROSS_VAL)\n",
    "\n",
    "confusion_matrix(Y_train_np, svc_clf_pred),  accuracy_score(Y_train_np, svc_clf_pred)\n"
   ]
  },
  {
   "cell_type": "code",
   "execution_count": 21,
   "id": "7c11ebd6",
   "metadata": {},
   "outputs": [
    {
     "data": {
      "text/plain": [
       "(array([[  0,   7,   0,   1,   0],\n",
       "        [  0, 110,   5,   1,   0],\n",
       "        [  0,  80,  20,  10,   0],\n",
       "        [  0,  13,  13,   8,   0],\n",
       "        [  0,   1,   2,   1,   0]]),\n",
       " 0.5073529411764706)"
      ]
     },
     "execution_count": 21,
     "metadata": {},
     "output_type": "execute_result"
    }
   ],
   "source": [
    "sgd_clf = SGDClassifier(random_state=RANDOM_SEED)\n",
    "sgd_clf.fit(X_train_pp, Y_train_np)\n",
    "sgd_clf_pred = cross_val_predict(sgd_clf, X_train_pp, Y_train_np, cv=CROSS_VAL)\n",
    "\n",
    "confusion_matrix(Y_train_np, sgd_clf_pred),  accuracy_score(Y_train_np, sgd_clf_pred)"
   ]
  },
  {
   "cell_type": "code",
   "execution_count": 28,
   "id": "61e3f001",
   "metadata": {},
   "outputs": [
    {
     "data": {
      "text/plain": [
       "(array([[ 0,  5,  3,  0,  0],\n",
       "        [ 0, 87, 28,  1,  0],\n",
       "        [ 0, 29, 73,  8,  0],\n",
       "        [ 0,  1, 21, 12,  0],\n",
       "        [ 0,  0,  3,  1,  0]]),\n",
       " 0.6323529411764706)"
      ]
     },
     "execution_count": 28,
     "metadata": {},
     "output_type": "execute_result"
    }
   ],
   "source": [
    "rf_clf = RandomForestClassifier(random_state=RANDOM_SEED)\n",
    "rf_clf.fit(X_train_pp, Y_train_np)\n",
    "rf_clf_pred = cross_val_predict(rf_clf, X_train_pp, Y_train_np, cv=CROSS_VAL)\n",
    "\n",
    "confusion_matrix(Y_train_np, rf_clf_pred,),  accuracy_score(Y_train_np, rf_clf_pred)\n"
   ]
  }
 ],
 "metadata": {
  "kernelspec": {
   "display_name": "Python 3.10.4 64-bit",
   "language": "python",
   "name": "python3"
  },
  "language_info": {
   "codemirror_mode": {
    "name": "ipython",
    "version": 3
   },
   "file_extension": ".py",
   "mimetype": "text/x-python",
   "name": "python",
   "nbconvert_exporter": "python",
   "pygments_lexer": "ipython3",
   "version": "3.10.4"
  },
  "orig_nbformat": 4,
  "vscode": {
   "interpreter": {
    "hash": "916dbcbb3f70747c44a77c7bcd40155683ae19c65e1c03b4aa3499c5328201f1"
   }
  }
 },
 "nbformat": 4,
 "nbformat_minor": 2
}
